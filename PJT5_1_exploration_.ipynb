{
  "cells": [
    {
      "cell_type": "markdown",
      "metadata": {},
      "source": [
        "Importation données"
      ]
    },
    {
      "cell_type": "code",
      "execution_count": 7,
      "metadata": {
        "colab": {
          "base_uri": "https://localhost:8080/",
          "height": 441
        },
        "id": "lBTn2iis6L7Q",
        "outputId": "1d5d3eaa-c8f6-4af3-cc6b-13f1aa301c5f"
      },
      "outputs": [
        {
          "data": {
            "text/html": [
              "<div>\n",
              "<style scoped>\n",
              "    .dataframe tbody tr th:only-of-type {\n",
              "        vertical-align: middle;\n",
              "    }\n",
              "\n",
              "    .dataframe tbody tr th {\n",
              "        vertical-align: top;\n",
              "    }\n",
              "\n",
              "    .dataframe thead th {\n",
              "        text-align: right;\n",
              "    }\n",
              "</style>\n",
              "<table border=\"1\" class=\"dataframe\">\n",
              "  <thead>\n",
              "    <tr style=\"text-align: right;\">\n",
              "      <th></th>\n",
              "      <th>Id</th>\n",
              "      <th>Title</th>\n",
              "      <th>Body</th>\n",
              "      <th>Tags</th>\n",
              "      <th>Score</th>\n",
              "      <th>ViewCount</th>\n",
              "      <th>AnswerCount</th>\n",
              "    </tr>\n",
              "  </thead>\n",
              "  <tbody>\n",
              "    <tr>\n",
              "      <th>0</th>\n",
              "      <td>20485075</td>\n",
              "      <td>How do I define multiple conditions on a join ...</td>\n",
              "      <td>&lt;p&gt;Ok, lets say I have order and items tables....</td>\n",
              "      <td>&lt;java&gt;&lt;jpa&gt;&lt;playframework&gt;&lt;playframework-2.0&gt;&lt;...</td>\n",
              "      <td>1</td>\n",
              "      <td>1984</td>\n",
              "      <td>2</td>\n",
              "    </tr>\n",
              "    <tr>\n",
              "      <th>1</th>\n",
              "      <td>20485079</td>\n",
              "      <td>What is the equivalent of a C# gridview in jav...</td>\n",
              "      <td>&lt;p&gt;I am trying to learn java, I am working on ...</td>\n",
              "      <td>&lt;c#&gt;&lt;java&gt;&lt;asp.net&gt;&lt;swing&gt;&lt;gridview&gt;</td>\n",
              "      <td>2</td>\n",
              "      <td>12333</td>\n",
              "      <td>1</td>\n",
              "    </tr>\n",
              "    <tr>\n",
              "      <th>2</th>\n",
              "      <td>20485143</td>\n",
              "      <td>Listview cursor adapter, always get first item...</td>\n",
              "      <td>&lt;p&gt;I have this piece of code for listview usin...</td>\n",
              "      <td>&lt;android&gt;&lt;listview&gt;&lt;android-listview&gt;&lt;simplecu...</td>\n",
              "      <td>1</td>\n",
              "      <td>1075</td>\n",
              "      <td>2</td>\n",
              "    </tr>\n",
              "    <tr>\n",
              "      <th>3</th>\n",
              "      <td>20485144</td>\n",
              "      <td>OpenSSL RSA-2048 unencrypted block is longer t...</td>\n",
              "      <td>&lt;p&gt;I am using the OpenSSL library in order to ...</td>\n",
              "      <td>&lt;c&gt;&lt;encryption&gt;&lt;cryptography&gt;&lt;openssl&gt;&lt;rsa&gt;</td>\n",
              "      <td>0</td>\n",
              "      <td>527</td>\n",
              "      <td>1</td>\n",
              "    </tr>\n",
              "    <tr>\n",
              "      <th>4</th>\n",
              "      <td>20485176</td>\n",
              "      <td>Returning char into main method</td>\n",
              "      <td>&lt;p&gt;The goal of my program is kind of like whee...</td>\n",
              "      <td>&lt;java&gt;&lt;eclipse&gt;&lt;string&gt;&lt;methods&gt;&lt;char&gt;</td>\n",
              "      <td>0</td>\n",
              "      <td>1278</td>\n",
              "      <td>3</td>\n",
              "    </tr>\n",
              "    <tr>\n",
              "      <th>...</th>\n",
              "      <td>...</td>\n",
              "      <td>...</td>\n",
              "      <td>...</td>\n",
              "      <td>...</td>\n",
              "      <td>...</td>\n",
              "      <td>...</td>\n",
              "      <td>...</td>\n",
              "    </tr>\n",
              "    <tr>\n",
              "      <th>49995</th>\n",
              "      <td>22814994</td>\n",
              "      <td>StructureMap use specific instance of type per...</td>\n",
              "      <td>&lt;p&gt;Is there a way, using StructureMap (the Dep...</td>\n",
              "      <td>&lt;c#&gt;&lt;asp.net&gt;&lt;dependency-injection&gt;&lt;inversion-...</td>\n",
              "      <td>0</td>\n",
              "      <td>369</td>\n",
              "      <td>2</td>\n",
              "    </tr>\n",
              "    <tr>\n",
              "      <th>49996</th>\n",
              "      <td>22815009</td>\n",
              "      <td>Add a reference column migration in Rails 4</td>\n",
              "      <td>&lt;p&gt;A user has many uploads. I want to add a co...</td>\n",
              "      <td>&lt;ruby-on-rails&gt;&lt;ruby-on-rails-4&gt;&lt;foreign-keys&gt;...</td>\n",
              "      <td>368</td>\n",
              "      <td>397557</td>\n",
              "      <td>8</td>\n",
              "    </tr>\n",
              "    <tr>\n",
              "      <th>49997</th>\n",
              "      <td>22815010</td>\n",
              "      <td>Hibernate mapping with group by clause?</td>\n",
              "      <td>&lt;p&gt;I have &lt;code&gt;@OneToMany&lt;/code&gt; mapping in a...</td>\n",
              "      <td>&lt;java&gt;&lt;sql&gt;&lt;hibernate&gt;&lt;group-by&gt;&lt;hibernate-map...</td>\n",
              "      <td>0</td>\n",
              "      <td>1755</td>\n",
              "      <td>1</td>\n",
              "    </tr>\n",
              "    <tr>\n",
              "      <th>49998</th>\n",
              "      <td>22815022</td>\n",
              "      <td>java.lang.NoClassDefFoundError: android.suppor...</td>\n",
              "      <td>&lt;p&gt;I have a class that extends &lt;code&gt;android.s...</td>\n",
              "      <td>&lt;java&gt;&lt;android&gt;&lt;eclipse&gt;&lt;android-fragments&gt;&lt;an...</td>\n",
              "      <td>0</td>\n",
              "      <td>1441</td>\n",
              "      <td>1</td>\n",
              "    </tr>\n",
              "    <tr>\n",
              "      <th>49999</th>\n",
              "      <td>58709</td>\n",
              "      <td>How to log in T-SQL</td>\n",
              "      <td>&lt;p&gt;I'm using ADO.NET to access SQL Server 2005...</td>\n",
              "      <td>&lt;sql-server&gt;&lt;t-sql&gt;&lt;logging&gt;&lt;ado.net&gt;&lt;sql&gt;</td>\n",
              "      <td>14</td>\n",
              "      <td>25293</td>\n",
              "      <td>11</td>\n",
              "    </tr>\n",
              "  </tbody>\n",
              "</table>\n",
              "<p>50000 rows × 7 columns</p>\n",
              "</div>"
            ],
            "text/plain": [
              "             Id                                              Title  \\\n",
              "0      20485075  How do I define multiple conditions on a join ...   \n",
              "1      20485079  What is the equivalent of a C# gridview in jav...   \n",
              "2      20485143  Listview cursor adapter, always get first item...   \n",
              "3      20485144  OpenSSL RSA-2048 unencrypted block is longer t...   \n",
              "4      20485176                    Returning char into main method   \n",
              "...         ...                                                ...   \n",
              "49995  22814994  StructureMap use specific instance of type per...   \n",
              "49996  22815009        Add a reference column migration in Rails 4   \n",
              "49997  22815010            Hibernate mapping with group by clause?   \n",
              "49998  22815022  java.lang.NoClassDefFoundError: android.suppor...   \n",
              "49999     58709                                How to log in T-SQL   \n",
              "\n",
              "                                                    Body  \\\n",
              "0      <p>Ok, lets say I have order and items tables....   \n",
              "1      <p>I am trying to learn java, I am working on ...   \n",
              "2      <p>I have this piece of code for listview usin...   \n",
              "3      <p>I am using the OpenSSL library in order to ...   \n",
              "4      <p>The goal of my program is kind of like whee...   \n",
              "...                                                  ...   \n",
              "49995  <p>Is there a way, using StructureMap (the Dep...   \n",
              "49996  <p>A user has many uploads. I want to add a co...   \n",
              "49997  <p>I have <code>@OneToMany</code> mapping in a...   \n",
              "49998  <p>I have a class that extends <code>android.s...   \n",
              "49999  <p>I'm using ADO.NET to access SQL Server 2005...   \n",
              "\n",
              "                                                    Tags  Score  ViewCount  \\\n",
              "0      <java><jpa><playframework><playframework-2.0><...      1       1984   \n",
              "1                   <c#><java><asp.net><swing><gridview>      2      12333   \n",
              "2      <android><listview><android-listview><simplecu...      1       1075   \n",
              "3            <c><encryption><cryptography><openssl><rsa>      0        527   \n",
              "4                 <java><eclipse><string><methods><char>      0       1278   \n",
              "...                                                  ...    ...        ...   \n",
              "49995  <c#><asp.net><dependency-injection><inversion-...      0        369   \n",
              "49996  <ruby-on-rails><ruby-on-rails-4><foreign-keys>...    368     397557   \n",
              "49997  <java><sql><hibernate><group-by><hibernate-map...      0       1755   \n",
              "49998  <java><android><eclipse><android-fragments><an...      0       1441   \n",
              "49999         <sql-server><t-sql><logging><ado.net><sql>     14      25293   \n",
              "\n",
              "       AnswerCount  \n",
              "0                2  \n",
              "1                1  \n",
              "2                2  \n",
              "3                1  \n",
              "4                3  \n",
              "...            ...  \n",
              "49995            2  \n",
              "49996            8  \n",
              "49997            1  \n",
              "49998            1  \n",
              "49999           11  \n",
              "\n",
              "[50000 rows x 7 columns]"
            ]
          },
          "execution_count": 7,
          "metadata": {},
          "output_type": "execute_result"
        }
      ],
      "source": [
        "import pandas as pd\n",
        "ct = 'QueryResults (1).csv'\n",
        "df = pd.read_csv(ct)\n",
        "df"
      ]
    },
    {
      "cell_type": "markdown",
      "metadata": {},
      "source": [
        "Filtre des tags"
      ]
    },
    {
      "cell_type": "code",
      "execution_count": 8,
      "metadata": {
        "colab": {
          "base_uri": "https://localhost:8080/"
        },
        "id": "ops6c-V06Xxz",
        "outputId": "0909d758-2d6b-4a85-d7f7-47ccbed6117f"
      },
      "outputs": [],
      "source": [
        "df['Tags'] = df['Tags'].str.replace('><', ',').str.replace('<', '').str.replace('>', '')\n",
        "\n",
        "from collections import Counter\n",
        "# Fréquence des mots dans 'Tags'\n",
        "all_tags = df['Tags'].str.split(',').explode().tolist()\n",
        "tag_counts = Counter(all_tags)\n",
        "\n",
        "# Trouver les 50 mots les plus fréquents\n",
        "top_50_tags = [tag for tag, _ in tag_counts.most_common(50)]\n",
        "\n",
        "# Filtrer les listes de mots pour ne contenir que les 50 mots les plus fréquents\n",
        "def filter_tags(tags):\n",
        "    return [tag for tag in tags if tag in top_50_tags]\n",
        "\n",
        "df['Tags'] = df['Tags'].str.split(',').apply(filter_tags)\n",
        "\n",
        "# Filtrer les lignes où 'Tags' est vide après le filtrage\n",
        "df = df[df['Tags'].apply(len) > 0]"
      ]
    },
    {
      "cell_type": "markdown",
      "metadata": {},
      "source": [
        "Nettoyage du texte"
      ]
    },
    {
      "cell_type": "code",
      "execution_count": 9,
      "metadata": {
        "colab": {
          "base_uri": "https://localhost:8080/"
        },
        "id": "7HJ59bJB6Xvc",
        "outputId": "e1c90fbc-a489-4b35-887c-0239f3393585"
      },
      "outputs": [
        {
          "name": "stderr",
          "output_type": "stream",
          "text": [
            "[nltk_data] Downloading package punkt to\n",
            "[nltk_data]     /Users/orphila_adjovi/nltk_data...\n",
            "[nltk_data]   Package punkt is already up-to-date!\n",
            "[nltk_data] Downloading package stopwords to\n",
            "[nltk_data]     /Users/orphila_adjovi/nltk_data...\n",
            "[nltk_data]   Package stopwords is already up-to-date!\n",
            "[nltk_data] Downloading package wordnet to\n",
            "[nltk_data]     /Users/orphila_adjovi/nltk_data...\n",
            "[nltk_data]   Package wordnet is already up-to-date!\n",
            "/var/folders/_l/cjjst_c50lx2nkkr280zbp440000gp/T/ipykernel_44290/2665542473.py:55: SettingWithCopyWarning: \n",
            "A value is trying to be set on a copy of a slice from a DataFrame.\n",
            "Try using .loc[row_indexer,col_indexer] = value instead\n",
            "\n",
            "See the caveats in the documentation: https://pandas.pydata.org/pandas-docs/stable/user_guide/indexing.html#returning-a-view-versus-a-copy\n",
            "  df['Cleaned_Body'] = df['Body'].apply(transform_bow_fct)\n"
          ]
        }
      ],
      "source": [
        "import nltk\n",
        "from nltk.tokenize import sent_tokenize, word_tokenize\n",
        "from nltk.corpus import stopwords\n",
        "from nltk.stem import WordNetLemmatizer, PorterStemmer\n",
        "\n",
        "nltk.download('punkt')\n",
        "nltk.download('stopwords')\n",
        "nltk.download('wordnet')\n",
        "\n",
        "from bs4 import BeautifulSoup\n",
        "\n",
        "# Nettoyage\n",
        "def strip_html_bs(text):\n",
        "    \"\"\"nettoyage des balises html\"\"\"\n",
        "    soup = BeautifulSoup(text, 'html.parser')\n",
        "    return soup.get_text()\n",
        "\n",
        "def tokenizer_fct(sentence):\n",
        "    \"\"\"Division de mots en texte + suppression de certains caractères\"\"\"\n",
        "    sentence_clean = sentence.replace('-', ' ').replace('+', ' ').replace('/', ' ').replace('#', ' ')\n",
        "    word_tokens = word_tokenize(sentence_clean)\n",
        "    return word_tokens\n",
        "\n",
        "stop_w = list(set(stopwords.words('english'))) + ['[', ']', ',', '.', ':', '?', '(', ')','<','>','~']\n",
        "\n",
        "def stop_word_filter_fct(list_words):\n",
        "    \"\"\"Suppression de mots sans information+ ponctuations\"\"\"\n",
        "    filtered_w = [w for w in list_words if not w in stop_w]\n",
        "    filtered_w2 = [w for w in filtered_w if len(w) > 2]\n",
        "    return filtered_w2\n",
        "\n",
        "def lower_start_fct(list_words):\n",
        "    \"\"\"Conversion en lettres minuscules et suppression de préfixes indésirables\"\"\"\n",
        "    lw = [w.lower() for w in list_words if (not w.startswith(\"@\")) and (not w.startswith(\"#\")) and (not w.startswith(\"http\"))]\n",
        "    return lw\n",
        "\n",
        "def lemma_fct(list_words):\n",
        "    \"\"\"lemmatisation\"\"\"\n",
        "    lemmatizer = WordNetLemmatizer()\n",
        "    lem_w = [lemmatizer.lemmatize(w) for w in list_words]\n",
        "    return lem_w\n",
        "\n",
        "def transform_bow_fct(desc_text):\n",
        "    \"\"\"fonction de transformation\"\"\"\n",
        "    text_stripped = strip_html_bs(desc_text)\n",
        "    word_tokens = tokenizer_fct(text_stripped)\n",
        "    sw = stop_word_filter_fct(word_tokens)\n",
        "    lw = lower_start_fct(sw)\n",
        "    lem = lemma_fct(lw) \n",
        "    transf_desc_text = ' '.join(lem)\n",
        "    return transf_desc_text\n",
        "\n",
        "    \n",
        "# Prétraitement\n",
        "df['Cleaned_Body'] = df['Body'].apply(transform_bow_fct)\n"
      ]
    },
    {
      "cell_type": "code",
      "execution_count": 10,
      "metadata": {},
      "outputs": [
        {
          "data": {
            "text/plain": [
              "'<p>I want to grab an image every 3 seconds from an ip camera and put it in a Image control (WPF application).</p>\\n\\n<p>I\\'m using this code:</p>\\n\\n<p>DispatcherTimer definition</p>\\n\\n<pre><code>DispatcherTimer dispatcherTimer = new DispatcherTimer(TimeSpan.FromSeconds(3), DispatcherPriority.Background, DispatcherTimer_Tick, Application.Current.Dispatcher);\\n</code></pre>\\n\\n<p>Image grabbing code</p>\\n\\n<pre><code>private void DispatcherTimer_Tick(object sender, EventArgs evA)\\n    {\\n        Dispatcher.Invoke(DispatcherPriority.Background,\\n         new Action(() =&gt;\\n         {\\n             try\\n             {\\n                 BitmapFrame src;\\n                 var webRequest = (HttpWebRequest)WebRequest.Create(@\"http://camera_ip/cgi-bin/video.cgi?msubmenu=jpg\");\\n                 webRequest.Credentials = new NetworkCredential(\"user\", \"password\");\\n                 webRequest.Proxy = null;\\n\\n                 var response = (HttpWebResponse)webRequest.GetResponse();\\n                 var stream = response.GetResponseStream();\\n                 var streamReader = new StreamReader(stream);\\n                 src = BitmapFrame.Create(streamReader.BaseStream);\\n\\n                 imageTelecamera.BeginInit();\\n                 imageTelecamera.Source = src;\\n                 imageTelecamera.EndInit();\\n\\n              }\\n             catch (Exception ex)\\n             {\\n                 DoLogD($\"Error: {ex.Message}\");\\n             }\\n         }\\n        ));\\n    }\\n</code></pre>\\n\\n<p>It works fine but when i grab the image the UI freezes for some milliseconds.</p>\\n\\n<p>Why the dispatcher is not working on the background without affecting the UI?</p>\\n'"
            ]
          },
          "execution_count": 10,
          "metadata": {},
          "output_type": "execute_result"
        }
      ],
      "source": [
        "df['Body'][100]"
      ]
    },
    {
      "cell_type": "code",
      "execution_count": 11,
      "metadata": {},
      "outputs": [
        {
          "data": {
            "text/plain": [
              "'want grab image every second camera put image control wpf application using code dispatchertimer definition dispatchertimer dispatchertimer new dispatchertimer timespan.fromseconds dispatcherpriority.background dispatchertimer_tick application.current.dispatcher image grabbing code private void dispatchertimer_tick object sender eventargs eva dispatcher.invoke dispatcherpriority.background new action try bitmapframe src var webrequest httpwebrequest webrequest.create camera_ip cgi bin video.cgi msubmenu=jpg webrequest.credentials new networkcredential user password webrequest.proxy null var response httpwebresponse webrequest.getresponse var stream response.getresponsestream var streamreader new streamreader stream src bitmapframe.create streamreader.basestream imagetelecamera.begininit imagetelecamera.source src imagetelecamera.endinit catch exception dologd error ex.message work fine grab image freeze millisecond why dispatcher working background without affecting'"
            ]
          },
          "execution_count": 11,
          "metadata": {},
          "output_type": "execute_result"
        }
      ],
      "source": [
        "df['Cleaned_Body'][100]"
      ]
    },
    {
      "cell_type": "markdown",
      "metadata": {},
      "source": [
        "Comparaison stemming vs lemming"
      ]
    },
    {
      "cell_type": "code",
      "execution_count": 17,
      "metadata": {},
      "outputs": [
        {
          "name": "stdout",
          "output_type": "stream",
          "text": [
            "Words     : ['running', 'better', 'flies', 'happily', 'playing', 'swimming', 'happiest', 'jumps', 'quickly', 'boxes']\n",
            "Lemmatized: ['running', 'better', 'fly', 'happily', 'playing', 'swimming', 'happiest', 'jump', 'quickly', 'box']\n",
            "Stemmed   : ['run', 'better', 'fli', 'happili', 'play', 'swim', 'happiest', 'jump', 'quickli', 'box']\n"
          ]
        }
      ],
      "source": [
        "from nltk.stem import PorterStemmer\n",
        "\n",
        "def stemmer_fct(list_words):\n",
        "    \"\"\"Stemming\"\"\"\n",
        "    stemmer = PorterStemmer()\n",
        "    stemmed_words = [stemmer.stem(w) for w in list_words]\n",
        "    return stemmed_words\n",
        "words = [\"running\", \"better\", \"flies\", \"happily\", \"playing\", \"swimming\", \"happiest\", \"jumps\", \"quickly\", \"boxes\"]\n",
        "\n",
        "lemmatized_words = lemma_fct(words)\n",
        "stemmed_words = stemmer_fct(words)\n",
        "\n",
        "print(f\"Words     : {words}\")\n",
        "print(f\"Lemmatized: {lemmatized_words}\")\n",
        "print(f\"Stemmed   : {stemmed_words}\")\n"
      ]
    }
  ],
  "metadata": {
    "colab": {
      "provenance": []
    },
    "kernelspec": {
      "display_name": "Python 3",
      "name": "python3"
    },
    "language_info": {
      "codemirror_mode": {
        "name": "ipython",
        "version": 3
      },
      "file_extension": ".py",
      "mimetype": "text/x-python",
      "name": "python",
      "nbconvert_exporter": "python",
      "pygments_lexer": "ipython3",
      "version": "3.10.9"
    }
  },
  "nbformat": 4,
  "nbformat_minor": 0
}
