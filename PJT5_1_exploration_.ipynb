{
  "cells": [
    {
      "cell_type": "code",
      "execution_count": 1,
      "metadata": {
        "colab": {
          "base_uri": "https://localhost:8080/",
          "height": 441
        },
        "id": "lBTn2iis6L7Q",
        "outputId": "1d5d3eaa-c8f6-4af3-cc6b-13f1aa301c5f"
      },
      "outputs": [
        {
          "data": {
            "text/html": [
              "<div>\n",
              "<style scoped>\n",
              "    .dataframe tbody tr th:only-of-type {\n",
              "        vertical-align: middle;\n",
              "    }\n",
              "\n",
              "    .dataframe tbody tr th {\n",
              "        vertical-align: top;\n",
              "    }\n",
              "\n",
              "    .dataframe thead th {\n",
              "        text-align: right;\n",
              "    }\n",
              "</style>\n",
              "<table border=\"1\" class=\"dataframe\">\n",
              "  <thead>\n",
              "    <tr style=\"text-align: right;\">\n",
              "      <th></th>\n",
              "      <th>Id</th>\n",
              "      <th>Title</th>\n",
              "      <th>Body</th>\n",
              "      <th>Tags</th>\n",
              "      <th>Score</th>\n",
              "      <th>ViewCount</th>\n",
              "      <th>AnswerCount</th>\n",
              "    </tr>\n",
              "  </thead>\n",
              "  <tbody>\n",
              "    <tr>\n",
              "      <th>0</th>\n",
              "      <td>20485075</td>\n",
              "      <td>How do I define multiple conditions on a join ...</td>\n",
              "      <td>&lt;p&gt;Ok, lets say I have order and items tables....</td>\n",
              "      <td>&lt;java&gt;&lt;jpa&gt;&lt;playframework&gt;&lt;playframework-2.0&gt;&lt;...</td>\n",
              "      <td>1</td>\n",
              "      <td>1984</td>\n",
              "      <td>2</td>\n",
              "    </tr>\n",
              "    <tr>\n",
              "      <th>1</th>\n",
              "      <td>20485079</td>\n",
              "      <td>What is the equivalent of a C# gridview in jav...</td>\n",
              "      <td>&lt;p&gt;I am trying to learn java, I am working on ...</td>\n",
              "      <td>&lt;c#&gt;&lt;java&gt;&lt;asp.net&gt;&lt;swing&gt;&lt;gridview&gt;</td>\n",
              "      <td>2</td>\n",
              "      <td>12333</td>\n",
              "      <td>1</td>\n",
              "    </tr>\n",
              "    <tr>\n",
              "      <th>2</th>\n",
              "      <td>20485143</td>\n",
              "      <td>Listview cursor adapter, always get first item...</td>\n",
              "      <td>&lt;p&gt;I have this piece of code for listview usin...</td>\n",
              "      <td>&lt;android&gt;&lt;listview&gt;&lt;android-listview&gt;&lt;simplecu...</td>\n",
              "      <td>1</td>\n",
              "      <td>1075</td>\n",
              "      <td>2</td>\n",
              "    </tr>\n",
              "    <tr>\n",
              "      <th>3</th>\n",
              "      <td>20485144</td>\n",
              "      <td>OpenSSL RSA-2048 unencrypted block is longer t...</td>\n",
              "      <td>&lt;p&gt;I am using the OpenSSL library in order to ...</td>\n",
              "      <td>&lt;c&gt;&lt;encryption&gt;&lt;cryptography&gt;&lt;openssl&gt;&lt;rsa&gt;</td>\n",
              "      <td>0</td>\n",
              "      <td>527</td>\n",
              "      <td>1</td>\n",
              "    </tr>\n",
              "    <tr>\n",
              "      <th>4</th>\n",
              "      <td>20485176</td>\n",
              "      <td>Returning char into main method</td>\n",
              "      <td>&lt;p&gt;The goal of my program is kind of like whee...</td>\n",
              "      <td>&lt;java&gt;&lt;eclipse&gt;&lt;string&gt;&lt;methods&gt;&lt;char&gt;</td>\n",
              "      <td>0</td>\n",
              "      <td>1278</td>\n",
              "      <td>3</td>\n",
              "    </tr>\n",
              "    <tr>\n",
              "      <th>...</th>\n",
              "      <td>...</td>\n",
              "      <td>...</td>\n",
              "      <td>...</td>\n",
              "      <td>...</td>\n",
              "      <td>...</td>\n",
              "      <td>...</td>\n",
              "      <td>...</td>\n",
              "    </tr>\n",
              "    <tr>\n",
              "      <th>49995</th>\n",
              "      <td>22814994</td>\n",
              "      <td>StructureMap use specific instance of type per...</td>\n",
              "      <td>&lt;p&gt;Is there a way, using StructureMap (the Dep...</td>\n",
              "      <td>&lt;c#&gt;&lt;asp.net&gt;&lt;dependency-injection&gt;&lt;inversion-...</td>\n",
              "      <td>0</td>\n",
              "      <td>369</td>\n",
              "      <td>2</td>\n",
              "    </tr>\n",
              "    <tr>\n",
              "      <th>49996</th>\n",
              "      <td>22815009</td>\n",
              "      <td>Add a reference column migration in Rails 4</td>\n",
              "      <td>&lt;p&gt;A user has many uploads. I want to add a co...</td>\n",
              "      <td>&lt;ruby-on-rails&gt;&lt;ruby-on-rails-4&gt;&lt;foreign-keys&gt;...</td>\n",
              "      <td>368</td>\n",
              "      <td>397557</td>\n",
              "      <td>8</td>\n",
              "    </tr>\n",
              "    <tr>\n",
              "      <th>49997</th>\n",
              "      <td>22815010</td>\n",
              "      <td>Hibernate mapping with group by clause?</td>\n",
              "      <td>&lt;p&gt;I have &lt;code&gt;@OneToMany&lt;/code&gt; mapping in a...</td>\n",
              "      <td>&lt;java&gt;&lt;sql&gt;&lt;hibernate&gt;&lt;group-by&gt;&lt;hibernate-map...</td>\n",
              "      <td>0</td>\n",
              "      <td>1755</td>\n",
              "      <td>1</td>\n",
              "    </tr>\n",
              "    <tr>\n",
              "      <th>49998</th>\n",
              "      <td>22815022</td>\n",
              "      <td>java.lang.NoClassDefFoundError: android.suppor...</td>\n",
              "      <td>&lt;p&gt;I have a class that extends &lt;code&gt;android.s...</td>\n",
              "      <td>&lt;java&gt;&lt;android&gt;&lt;eclipse&gt;&lt;android-fragments&gt;&lt;an...</td>\n",
              "      <td>0</td>\n",
              "      <td>1441</td>\n",
              "      <td>1</td>\n",
              "    </tr>\n",
              "    <tr>\n",
              "      <th>49999</th>\n",
              "      <td>58709</td>\n",
              "      <td>How to log in T-SQL</td>\n",
              "      <td>&lt;p&gt;I'm using ADO.NET to access SQL Server 2005...</td>\n",
              "      <td>&lt;sql-server&gt;&lt;t-sql&gt;&lt;logging&gt;&lt;ado.net&gt;&lt;sql&gt;</td>\n",
              "      <td>14</td>\n",
              "      <td>25293</td>\n",
              "      <td>11</td>\n",
              "    </tr>\n",
              "  </tbody>\n",
              "</table>\n",
              "<p>50000 rows × 7 columns</p>\n",
              "</div>"
            ],
            "text/plain": [
              "             Id                                              Title  \\\n",
              "0      20485075  How do I define multiple conditions on a join ...   \n",
              "1      20485079  What is the equivalent of a C# gridview in jav...   \n",
              "2      20485143  Listview cursor adapter, always get first item...   \n",
              "3      20485144  OpenSSL RSA-2048 unencrypted block is longer t...   \n",
              "4      20485176                    Returning char into main method   \n",
              "...         ...                                                ...   \n",
              "49995  22814994  StructureMap use specific instance of type per...   \n",
              "49996  22815009        Add a reference column migration in Rails 4   \n",
              "49997  22815010            Hibernate mapping with group by clause?   \n",
              "49998  22815022  java.lang.NoClassDefFoundError: android.suppor...   \n",
              "49999     58709                                How to log in T-SQL   \n",
              "\n",
              "                                                    Body  \\\n",
              "0      <p>Ok, lets say I have order and items tables....   \n",
              "1      <p>I am trying to learn java, I am working on ...   \n",
              "2      <p>I have this piece of code for listview usin...   \n",
              "3      <p>I am using the OpenSSL library in order to ...   \n",
              "4      <p>The goal of my program is kind of like whee...   \n",
              "...                                                  ...   \n",
              "49995  <p>Is there a way, using StructureMap (the Dep...   \n",
              "49996  <p>A user has many uploads. I want to add a co...   \n",
              "49997  <p>I have <code>@OneToMany</code> mapping in a...   \n",
              "49998  <p>I have a class that extends <code>android.s...   \n",
              "49999  <p>I'm using ADO.NET to access SQL Server 2005...   \n",
              "\n",
              "                                                    Tags  Score  ViewCount  \\\n",
              "0      <java><jpa><playframework><playframework-2.0><...      1       1984   \n",
              "1                   <c#><java><asp.net><swing><gridview>      2      12333   \n",
              "2      <android><listview><android-listview><simplecu...      1       1075   \n",
              "3            <c><encryption><cryptography><openssl><rsa>      0        527   \n",
              "4                 <java><eclipse><string><methods><char>      0       1278   \n",
              "...                                                  ...    ...        ...   \n",
              "49995  <c#><asp.net><dependency-injection><inversion-...      0        369   \n",
              "49996  <ruby-on-rails><ruby-on-rails-4><foreign-keys>...    368     397557   \n",
              "49997  <java><sql><hibernate><group-by><hibernate-map...      0       1755   \n",
              "49998  <java><android><eclipse><android-fragments><an...      0       1441   \n",
              "49999         <sql-server><t-sql><logging><ado.net><sql>     14      25293   \n",
              "\n",
              "       AnswerCount  \n",
              "0                2  \n",
              "1                1  \n",
              "2                2  \n",
              "3                1  \n",
              "4                3  \n",
              "...            ...  \n",
              "49995            2  \n",
              "49996            8  \n",
              "49997            1  \n",
              "49998            1  \n",
              "49999           11  \n",
              "\n",
              "[50000 rows x 7 columns]"
            ]
          },
          "execution_count": 1,
          "metadata": {},
          "output_type": "execute_result"
        }
      ],
      "source": [
        "# @title Importation données\n",
        "import pandas as pd\n",
        "ct = 'QueryResults (1).csv'\n",
        "df = pd.read_csv(ct)\n",
        "df"
      ]
    },
    {
      "cell_type": "code",
      "execution_count": 2,
      "metadata": {},
      "outputs": [
        {
          "data": {
            "text/plain": [
              "'<p>Ok, lets say I have order and items tables. This is how items are described in my Order class:</p>\\n\\n<pre><code>@ManyToMany(cascade=CascadeType.PERSIST)\\n@JoinTable(name=\"MY_ORDER_ITEM_BRIDGE\",\\njoinColumns=@JoinColumn(name=\"bridge_order_id\",referencedColumnName = \"order_order_id\"),\\ninverseJoinColumns = @JoinColumn(name=\"bridge_item_id\", referencedColumnName=\"item_item_id\"))\\nprivate List&lt;Item&gt; items;\\n</code></pre>\\n\\n<p>This works fine. But lets image that there is a date in the bridge table called MY_ORDER_ITEM_BRIDGE.expiration_date.</p>\\n\\n<p>I want to change the definition to only include Items with expiration_date that has not occurred yet.</p>\\n\\n<p>So I want the generated SQL to look something like:</p>\\n\\n<pre><code>SELECT *\\nFROM order o\\njoin my_order_item_bridge b\\non b.bridge_order_id = o.order_order_id\\njoin item i\\non i.item_item_id = b.bridge_item_id\\nwhere b.expiration_date &lt; sysdate;\\n</code></pre>\\n\\n<p>I am using Ebean, Play Framework 2.1.3. Thanks for any help.</p>\\n\\n<p><strong>UPDATE</strong>: Alternatively, it could also be a second condition on either of the joins:</p>\\n\\n<pre><code>SELECT *\\nFROM order o\\njoin my_order_item_bridge b\\non b.bridge_order_id = o.order_order_id\\nand b.expiration_date &lt; sysdate\\njoin item i\\non i.item_item_id = b.bridge_item_id\\n</code></pre>\\n\\n<p>(If possible I\\'d like to do this in the class definition not in raw SQL)</p>\\n'"
            ]
          },
          "execution_count": 2,
          "metadata": {},
          "output_type": "execute_result"
        }
      ],
      "source": [
        "df['Body'][0]"
      ]
    },
    {
      "cell_type": "code",
      "execution_count": 2,
      "metadata": {
        "colab": {
          "base_uri": "https://localhost:8080/"
        },
        "id": "ops6c-V06Xxz",
        "outputId": "0909d758-2d6b-4a85-d7f7-47ccbed6117f"
      },
      "outputs": [
        {
          "name": "stderr",
          "output_type": "stream",
          "text": [
            "/var/folders/_l/cjjst_c50lx2nkkr280zbp440000gp/T/ipykernel_15383/3543793987.py:22: SettingWithCopyWarning: \n",
            "A value is trying to be set on a copy of a slice from a DataFrame.\n",
            "Try using .loc[row_indexer,col_indexer] = value instead\n",
            "\n",
            "See the caveats in the documentation: https://pandas.pydata.org/pandas-docs/stable/user_guide/indexing.html#returning-a-view-versus-a-copy\n",
            "  df['nb_tags'] = df['Tags'].apply(lambda x: len(x))\n"
          ]
        }
      ],
      "source": [
        "# @title Filtre des tags\n",
        "\n",
        "df['Tags'] = df['Tags'].str.replace('><', ',').str.replace('<', '').str.replace('>', '')\n",
        "\n",
        "from collections import Counter\n",
        "# Fréquence des mots dans 'Tags'\n",
        "all_tags = df['Tags'].str.split(',').explode().tolist()\n",
        "tag_counts = Counter(all_tags)\n",
        "\n",
        "# Trouver les 50 mots les plus fréquents\n",
        "top_50_tags = [tag for tag, _ in tag_counts.most_common(50)]\n",
        "\n",
        "# Filtrer les listes de mots pour ne contenir que les 50 mots les plus fréquents\n",
        "def filter_tags(tags):\n",
        "    return [tag for tag in tags if tag in top_50_tags]\n",
        "\n",
        "df['Tags'] = df['Tags'].str.split(',').apply(filter_tags)\n",
        "\n",
        "# Filtrer les lignes où 'Tags' est vide après le filtrage\n",
        "df = df[df['Tags'].apply(len) > 0]\n",
        "\n",
        "df['nb_tags'] = df['Tags'].apply(lambda x: len(x))\n",
        "df = df[df['nb_tags']==3]"
      ]
    },
    {
      "cell_type": "code",
      "execution_count": 3,
      "metadata": {
        "colab": {
          "base_uri": "https://localhost:8080/"
        },
        "id": "7HJ59bJB6Xvc",
        "outputId": "e1c90fbc-a489-4b35-887c-0239f3393585"
      },
      "outputs": [
        {
          "name": "stderr",
          "output_type": "stream",
          "text": [
            "[nltk_data] Downloading package punkt to\n",
            "[nltk_data]     /Users/orphila_adjovi/nltk_data...\n",
            "[nltk_data]   Package punkt is already up-to-date!\n",
            "[nltk_data] Downloading package stopwords to\n",
            "[nltk_data]     /Users/orphila_adjovi/nltk_data...\n",
            "[nltk_data]   Package stopwords is already up-to-date!\n",
            "[nltk_data] Downloading package wordnet to\n",
            "[nltk_data]     /Users/orphila_adjovi/nltk_data...\n",
            "[nltk_data]   Package wordnet is already up-to-date!\n"
          ]
        }
      ],
      "source": [
        "# @title Nettoyage du texte\n",
        "import nltk\n",
        "from nltk.tokenize import sent_tokenize, word_tokenize\n",
        "from nltk.corpus import stopwords\n",
        "from nltk.stem import WordNetLemmatizer\n",
        "\n",
        "nltk.download('punkt')\n",
        "nltk.download('stopwords')\n",
        "nltk.download('wordnet')\n",
        "\n",
        "# Nettoyage\n",
        "def tokenizer_fct(sentence):\n",
        "    \"\"\"Division de mots en texte + suppression de certains caractères\"\"\"\n",
        "    sentence_clean = sentence.replace('-', ' ').replace('+', ' ').replace('/', ' ').replace('#', ' ')\n",
        "    word_tokens = word_tokenize(sentence_clean)\n",
        "    return word_tokens\n",
        "\n",
        "stop_w = list(set(stopwords.words('english'))) + ['[', ']', ',', '.', ':', '?', '(', ')','<','>','~']\n",
        "\n",
        "def stop_word_filter_fct(list_words):\n",
        "    \"\"\"Suppression de mots sans information+ ponctuations\"\"\"\n",
        "    filtered_w = [w for w in list_words if not w in stop_w]\n",
        "    filtered_w2 = [w for w in filtered_w if len(w) > 2]\n",
        "    return filtered_w2\n",
        "\n",
        "def lower_start_fct(list_words):\n",
        "    \"\"\"Conversion en lettres minuscules et suppression de préfixes indésirables\"\"\"\n",
        "    lw = [w.lower() for w in list_words if (not w.startswith(\"@\")) and (not w.startswith(\"#\")) and (not w.startswith(\"http\"))]\n",
        "    return lw\n",
        "\n",
        "def lemma_fct(list_words):\n",
        "    \"\"\"lemmatisation\"\"\"\n",
        "    lemmatizer = WordNetLemmatizer()\n",
        "    lem_w = [lemmatizer.lemmatize(w) for w in list_words]\n",
        "    return lem_w\n",
        "\n",
        "def transform_bow_fct(desc_text):\n",
        "    \"\"\"fonction de transformation\"\"\"\n",
        "    word_tokens = tokenizer_fct(desc_text)\n",
        "    sw = stop_word_filter_fct(word_tokens)\n",
        "    lw = lower_start_fct(sw)\n",
        "    transf_desc_text = ' '.join(lw)\n",
        "    return transf_desc_text\n",
        "\n",
        "# Prétraitement\n",
        "df['Cleaned_Body'] = df['Body'].apply(transform_bow_fct)\n"
      ]
    },
    {
      "cell_type": "code",
      "execution_count": null,
      "metadata": {
        "id": "xkntvy3s6XtI"
      },
      "outputs": [],
      "source": [
        "# @title Approche bag-of-words : Encoding TF - IDF\n",
        "from sklearn.feature_extraction.text import TfidfVectorizer\n",
        "\n",
        "tfidf_vectorizer = TfidfVectorizer(max_features=1000)\n",
        "tfidf_array = tfidf_vectorizer.fit_transform(df['Cleaned_Body']).toarray()\n",
        "\n",
        "# Liste des termes correspondant aux colonnes de la matrice\n",
        "feature_names = tfidf_vectorizer.get_feature_names_out()\n",
        "# Scores de chaque mot\n",
        "tfidf_df = pd.DataFrame(tfidf_array, columns=feature_names)\n",
        "\n",
        "# Concaténez les DataFrames sans utiliser de sample\n",
        "df.reset_index(drop=True, inplace=True)\n",
        "df2 = pd.concat([df, tfidf_df], axis=1)"
      ]
    },
    {
      "cell_type": "code",
      "execution_count": null,
      "metadata": {
        "id": "qWUoSuNX6riy"
      },
      "outputs": [],
      "source": [
        " # @title Réduction de dimension"
      ]
    },
    {
      "cell_type": "code",
      "execution_count": null,
      "metadata": {
        "id": "Zj35O0f-6wBF"
      },
      "outputs": [],
      "source": [
        " # @title Analyse"
      ]
    }
  ],
  "metadata": {
    "colab": {
      "provenance": []
    },
    "kernelspec": {
      "display_name": "Python 3",
      "name": "python3"
    },
    "language_info": {
      "codemirror_mode": {
        "name": "ipython",
        "version": 3
      },
      "file_extension": ".py",
      "mimetype": "text/x-python",
      "name": "python",
      "nbconvert_exporter": "python",
      "pygments_lexer": "ipython3",
      "version": "3.10.9"
    }
  },
  "nbformat": 4,
  "nbformat_minor": 0
}
